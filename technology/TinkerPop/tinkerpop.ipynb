{
 "cells": [
  {
   "cell_type": "markdown",
   "metadata": {},
   "source": [
    "### tinkerpop学习笔记\n",
    "\n",
    "Graph Computing: Structure + Process\n",
    "A graph is a data structure composed of vertices (nodes, dots) and edges (arcs, lines).\n",
    "\n",
    "\n",
    "Primary components of the TinkerPop3 structure API\n",
    "* Graph: maintains a set of vertices and edges, and access to database functions such as transactions.\n",
    "* Element: maintains a collection of properties and a string label denoting the element type.\n",
    "    * Vertex: extends Element and maintains a set of incoming and outgoing edges.\n",
    "    * Edge: extends Element and maintains an incoming and outgoing vertex.\n",
    "* Property<V>: a string key associated with a V value.\n",
    "    * VertexProperty<V>: a string key associated with a V value as well as a collection of Property<U> properties (vertices only)\n",
    "    \n",
    "    \n",
    "\n",
    "Primary components of the TinkerPop3 process API\n",
    "* TraversalSource: a generator of traversals for a particular graph, domain specific language (DSL), and execution engine.\n",
    "    * Traversal<S,E>: a functional data flow process transforming objects of type S into object of type E.\n",
    "        * GraphTraversal: a traversal DSL that is oriented towards the semantics of the raw graph (i.e. vertices, edges, etc.).\n",
    "        \n",
    "* GraphComputer: a system that processes the graph in parallel and potentially, distributed over a multi-machine cluster.\n",
    "    * VertexProgram: code executed at all vertices in a logically parallel manner with intercommunication via message passing.\n",
    "    * MapReduce: a computations that analyzes all vertices in the graph in parallel and yields a single reduced result."
   ]
  },
  {
   "cell_type": "code",
   "execution_count": null,
   "metadata": {
    "collapsed": true
   },
   "outputs": [],
   "source": []
  }
 ],
 "metadata": {
  "kernelspec": {
   "display_name": "Python 3",
   "language": "python",
   "name": "python3"
  },
  "language_info": {
   "codemirror_mode": {
    "name": "ipython",
    "version": 3
   },
   "file_extension": ".py",
   "mimetype": "text/x-python",
   "name": "python",
   "nbconvert_exporter": "python",
   "pygments_lexer": "ipython3",
   "version": "3.6.3"
  }
 },
 "nbformat": 4,
 "nbformat_minor": 2
}
